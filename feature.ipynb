{
 "cells": [
  {
   "cell_type": "code",
   "execution_count": null,
   "metadata": {},
   "outputs": [],
   "source": [
    "import timm\n",
    "import torch\n",
    "\n",
    "\n",
    "def get_features(dataset, batch, num_images):\n",
    "    if torch.cuda.is_available():\n",
    "        device = 'cuda'\n",
    "    else:\n",
    "        device = 'cpu'\n",
    "\n",
    "    model = timm.create_model('resnet50', num_classes=4)\n",
    "    model = model.load_state_dict(torch.load('C:\\\\Users\\\\rtm\\Desktop\\\\tsne_new\\\\best.pt'))\n",
    "    model.eval()\n",
    "    model.to(device)\n",
    "\n",
    "    dataset = MyDataset(dataset, num_images)\n",
    "    dataloader = torch.utils.data.DataLoader(dataset, batch_size=batch, collate_fn=collate_skip_empty, shuffle=True)\n",
    "\n",
    "    # feature 저장 변수\n",
    "    features = None\n",
    "\n",
    "    # label 저장, image_path 저장\n",
    "    labels = []\n",
    "    image_paths = []\n",
    "\n",
    "    for batch in tqdm(dataloader, desc='Running the model inference'):\n",
    "        images = batch['image'].to(device)\n",
    "        labels += batch['label']\n",
    "        image_paths += batch['image_path']\n",
    "\n",
    "        with torch.no_grad():\n",
    "            output = model.forward_features(images)\n",
    "\n",
    "        current_features = output.cpu().numpy()\n",
    "        if features is not None:\n",
    "            features = np.concatenate((features, current_features))\n",
    "        else:\n",
    "            features = current_features\n",
    "\n",
    "    return features, labels, image_paths\n",
    "1:44\n",
    "def main():\n",
    "    parser = argparse.ArgumentParser()\n",
    "\n",
    "    parser.add_argument('--path', type=str, default='data')\n",
    "    parser.add_argument('--batch', type=int, default=64)\n",
    "    parser.add_argument('--num_images', type=int, default=500)\n",
    "    args = parser.parse_args()\n",
    "\n",
    "    fix_random_seeds()\n",
    "\n",
    "    features, labels, image_paths = get_features(\n",
    "        dataset=args.path,\n",
    "        batch=args.batch,\n",
    "        num_images=args.num_images\n",
    "    )\n",
    "    print(features.shape)\n",
    "\n",
    "if __name__ == '__main__':\n",
    "    main()"
   ]
  }
 ],
 "metadata": {
  "kernelspec": {
   "display_name": "Python 3.9.12 ('base')",
   "language": "python",
   "name": "python3"
  },
  "language_info": {
   "name": "python",
   "version": "3.9.12"
  },
  "orig_nbformat": 4,
  "vscode": {
   "interpreter": {
    "hash": "39523b5506b09c1341afcde84115bb5b8a9de94ca361b7e653f8ee467cc4d43c"
   }
  }
 },
 "nbformat": 4,
 "nbformat_minor": 2
}
