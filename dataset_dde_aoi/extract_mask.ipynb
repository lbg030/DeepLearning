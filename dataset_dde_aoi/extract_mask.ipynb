{
 "cells": [
  {
   "cell_type": "code",
   "execution_count": 1,
   "metadata": {},
   "outputs": [],
   "source": [
    "import numpy as np\n",
    "import cv2\n",
    "import json"
   ]
  },
  {
   "cell_type": "code",
   "execution_count": 2,
   "metadata": {},
   "outputs": [
    {
     "name": "stdout",
     "output_type": "stream",
     "text": [
      "test.json\n",
      "label = slit\n",
      "shapes = [[251.37106918238993, 252.45911949685532], [264.57861635220127, 269.44025157232704]]\n",
      "251.37106918238993 264.57861635220127\n"
     ]
    }
   ],
   "source": [
    "img_name = [\"test.jpg\"]\n",
    "\n",
    "for img in img_name:\n",
    "    image = cv2.imread(\"test.jpg\")\n",
    "    # print(image)\n",
    "    json_name = img[:-3] + \"json\"\n",
    "    print(json_name)\n",
    "    \n",
    "    with open(json_name, 'r') as f:\n",
    "        json_data = json.load(f)\n",
    "\n",
    "    label = json_data['shapes'][0]['label']\n",
    "    shapes = json_data['shapes'][0]['points']\n",
    "\n",
    "    print(f\"label = {label}\")\n",
    "    print(f\"shapes = {shapes}\")\n",
    "\n",
    "    x_min,x_max = (shapes[0][0],shapes[1][0]) if shapes[0][0] < shapes[1][0] else (shapes[1][0],shapes[0][0])\n",
    "    y_min,y_max = (shapes[0][1],shapes[1][1]) if shapes[0][1] < shapes[1][1] else (shapes[1][1],shapes[0][1])\n",
    "    # print(f\" \")\n",
    "    x_min,x_max,y_min,y_max = map(int, (x_min,x_max,y_min,y_max))\n",
    "\n",
    "    image[:][:] = 0\n",
    "    image[y_min:y_max, x_min:x_max] = 255\n",
    "\n",
    "    roi_img = img[:-4] + \"roi.jpg\"\n",
    "    print(roi_img)\n",
    "    cv2.imwrite(roi_img, image)\n",
    "    "
   ]
  },
  {
   "cell_type": "code",
   "execution_count": 3,
   "metadata": {},
   "outputs": [],
   "source": [
    "# image = cv2.imread(\"test.jpg\", cv2.IMREAD_GRAYSCALE)\n",
    "\n",
    "# (x,y), (w,h) = (200,200), (30,50)\n",
    "\n",
    "\n",
    "# print(image)\n"
   ]
  },
  {
   "cell_type": "code",
   "execution_count": 4,
   "metadata": {},
   "outputs": [
    {
     "name": "stdout",
     "output_type": "stream",
     "text": [
      "[[[0 0 0]\n",
      "  [0 0 0]\n",
      "  [0 0 0]\n",
      "  ...\n",
      "  [0 0 0]\n",
      "  [0 0 0]\n",
      "  [0 0 0]]\n",
      "\n",
      " [[0 0 0]\n",
      "  [0 0 0]\n",
      "  [0 0 0]\n",
      "  ...\n",
      "  [0 0 0]\n",
      "  [0 0 0]\n",
      "  [0 0 0]]\n",
      "\n",
      " [[0 0 0]\n",
      "  [0 0 0]\n",
      "  [0 0 0]\n",
      "  ...\n",
      "  [0 0 0]\n",
      "  [0 0 0]\n",
      "  [0 0 0]]\n",
      "\n",
      " ...\n",
      "\n",
      " [[0 0 0]\n",
      "  [0 0 0]\n",
      "  [0 0 0]\n",
      "  ...\n",
      "  [0 0 0]\n",
      "  [0 0 0]\n",
      "  [0 0 0]]\n",
      "\n",
      " [[0 0 0]\n",
      "  [0 0 0]\n",
      "  [0 0 0]\n",
      "  ...\n",
      "  [0 0 0]\n",
      "  [0 0 0]\n",
      "  [0 0 0]]\n",
      "\n",
      " [[0 0 0]\n",
      "  [0 0 0]\n",
      "  [0 0 0]\n",
      "  ...\n",
      "  [0 0 0]\n",
      "  [0 0 0]\n",
      "  [0 0 0]]]\n",
      "(512, 512, 3)\n"
     ]
    }
   ],
   "source": [
    "# cv2.rectangle(image, (x_min,y_min,x_max,y_max), 255, 1)\n",
    "import numpy as np\n",
    "import cv2\n",
    "import json\n",
    "\n",
    "# image = cv2.imread(\"test2.tif\")\n",
    "\n",
    "# print(image)\n",
    "# print(image.shape)\n",
    "\n",
    "# cv2.imshow(\"image\", image)\n",
    "# cv2.waitKey(0)\n",
    "# cv2.destroyAllWindows()"
   ]
  },
  {
   "cell_type": "code",
   "execution_count": 6,
   "metadata": {},
   "outputs": [
    {
     "name": "stdout",
     "output_type": "stream",
     "text": [
      "testroi.jpg\n"
     ]
    },
    {
     "data": {
      "text/plain": [
       "True"
      ]
     },
     "execution_count": 6,
     "metadata": {},
     "output_type": "execute_result"
    }
   ],
   "source": []
  },
  {
   "cell_type": "code",
   "execution_count": null,
   "metadata": {},
   "outputs": [],
   "source": []
  }
 ],
 "metadata": {
  "kernelspec": {
   "display_name": "base",
   "language": "python",
   "name": "python3"
  },
  "language_info": {
   "codemirror_mode": {
    "name": "ipython",
    "version": 3
   },
   "file_extension": ".py",
   "mimetype": "text/x-python",
   "name": "python",
   "nbconvert_exporter": "python",
   "pygments_lexer": "ipython3",
   "version": "3.9.13"
  },
  "orig_nbformat": 4,
  "vscode": {
   "interpreter": {
    "hash": "e9eda602932413744492304798d8e81733602ce38704ab8d4a3c6b803028f8ba"
   }
  }
 },
 "nbformat": 4,
 "nbformat_minor": 2
}
