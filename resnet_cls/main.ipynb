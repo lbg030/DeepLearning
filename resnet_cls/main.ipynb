{
 "cells": [
  {
   "cell_type": "code",
   "execution_count": 1,
   "metadata": {},
   "outputs": [],
   "source": [
    "import os\n",
    "import random\n",
    "import time\n",
    "# Torch\n",
    "import torch\n",
    "import numpy as np\n",
    "import torch.nn as nn\n",
    "import torch.optim as optim\n",
    "from torch.utils.data import DataLoader\n",
    "import torch.optim.lr_scheduler as lr_scheduler\n",
    "from torch.utils.data.sampler import SubsetRandomSampler\n",
    "\n",
    "# Torchvison\n",
    "import torchvision.transforms as T\n",
    "import torchvision.models as models\n",
    "# from torchvision.datasets import CIFAR100, CIFAR10\n",
    "\n",
    "# Utils\n",
    "# import visdom\n",
    "from tqdm import tqdm\n",
    "\n",
    "# Custom\n",
    "from config import *\n",
    "from ace_data import train_data, test_data\n",
    "\n",
    "import timm\n",
    "from sklearn.metrics import accuracy_score, recall_score, precision_score, f1_score\n",
    "\n",
    "import datetime\n",
    "\n",
    "model = timm.create_model(model_name = 'resnet50',weights = None, num_classes = 4)\n"
   ]
  },
  {
   "cell_type": "code",
   "execution_count": 2,
   "metadata": {},
   "outputs": [],
   "source": [
    "train_loader = DataLoader(train_data, batch_size=BATCH, \n",
    "                                num_workers = 4, pin_memory=True,  drop_last = True)\n",
    "test_loader  = DataLoader(test_data,num_workers = 4, batch_size=1)\n",
    "\n",
    "models      = {'backbone': model }\n",
    "dataloaders  = {'train': train_loader, 'test': test_loader}"
   ]
  },
  {
   "cell_type": "code",
   "execution_count": 3,
   "metadata": {},
   "outputs": [],
   "source": [
    "train_loader = DataLoader(train_data, batch_size=BATCH, \n",
    "                                num_workers = 4, pin_memory=True,  drop_last = True)\n",
    "test_loader  = DataLoader(test_data,num_workers = 4, batch_size=1)\n",
    "\n",
    "models      = {'backbone': model }\n",
    "dataloaders  = {'train': train_loader, 'test': test_loader}\n",
    "\n",
    "criterion      = nn.CrossEntropyLoss(reduction='none')\n",
    "optim_backbone = optim.SGD(models['backbone'].parameters(), lr=LR)\n",
    "sched_backbone = lr_scheduler.MultiStepLR(optim_backbone, milestones=MILESTONES)\n",
    "\n",
    "optimizers = {'backbone': optim_backbone}\n",
    "schedulers = {'backbone': sched_backbone}\n",
    "        "
   ]
  },
  {
   "cell_type": "markdown",
   "metadata": {},
   "source": [
    "# Train and Test "
   ]
  },
  {
   "cell_type": "code",
   "execution_count": 8,
   "metadata": {},
   "outputs": [],
   "source": [
    "def train_epoch(models, criterion, optimizers, dataloaders, epoch, epoch_loss, plot_data=None):\n",
    "    models['backbone'].train()\n",
    "    \n",
    "    \n",
    "    for data in tqdm(dataloaders['train'], leave=False, total=len(dataloaders['train'])):\n",
    "        inputs = data[0].to(device)\n",
    "        labels = data[1].to(device)\n",
    "        \n",
    "\n",
    "        optimizers['backbone'].zero_grad()\n",
    "\n",
    "        \n",
    "        scores = models['backbone'](inputs)\n",
    "        target_loss = criterion(scores, labels)\n",
    "        \n",
    "\n",
    "        m_backbone_loss = torch.sum(target_loss) / target_loss.size(0)\n",
    "        \n",
    "        loss            = m_backbone_loss\n",
    "\n",
    "        loss.backward()\n",
    "        optimizers['backbone'].step()\n",
    "        \n",
    "    \n",
    "def test(models, dataloaders, mode='val'):\n",
    "    metrics = {}\n",
    "    preds, labels = [], []\n",
    "    assert mode == 'val' or mode == 'test'\n",
    "    models['backbone'].eval()\n",
    "    \n",
    "\n",
    "    with torch.no_grad():\n",
    "        for (inputs, label) in dataloaders[mode]:\n",
    "            inputs = inputs.to(device)\n",
    "            label = label.to(device)\n",
    "\n",
    "            scores, _ = models['backbone'](inputs)\n",
    "            # _, preds = torch.max(scores.data, 1)\n",
    "            labels.extend(label.detach().tolist())\n",
    "            preds.extend(scores.argmax(axis=1).detach().tolist())\n",
    "        # print(f\" labels = {labels}\")\n",
    "        # print(f\" preds = {preds}\")\n",
    "    metrics['accuracy'] = accuracy_score(y_pred=preds, y_true=labels)\n",
    "    metrics['f1_score'] = f1_score(y_pred=preds, y_true=labels, average='weighted')\n",
    "    metrics['precision'] = precision_score(y_pred=preds, y_true=labels, average='weighted')\n",
    "    metrics['recall'] = recall_score(y_pred=preds, y_true=labels, average='weighted')\n",
    "\n",
    "            # print(\"labels \" , labels)\n",
    "            # print(\"preds \" , preds)\n",
    "    return metrics\n",
    "\n",
    "#\n",
    "def train(models, criterion, optimizers, schedulers, dataloaders, num_epochs, epoch_loss):\n",
    "    print('>> Train a Model.')\n",
    "    \n",
    "    \n",
    "    for epoch in tqdm(range(num_epochs)):\n",
    "            \n",
    "        train_epoch(models, criterion, optimizers, dataloaders, epoch, epoch_loss)\n",
    "        schedulers['backbone'].step()\n",
    "\n",
    "    print('>> Finished.')\n"
   ]
  },
  {
   "cell_type": "code",
   "execution_count": 9,
   "metadata": {},
   "outputs": [
    {
     "name": "stdout",
     "output_type": "stream",
     "text": [
      ">> Train a Model.\n"
     ]
    },
    {
     "name": "stderr",
     "output_type": "stream",
     "text": [
      "  0%|          | 0/200 [00:00<?, ?it/s]"
     ]
    }
   ],
   "source": [
    "train(models, criterion, optimizers, schedulers, dataloaders, EPOCH, EPOCHL)\n",
    "metrics = test(models, dataloaders, mode='test')\n",
    "\n",
    "print(f\"accuracy : {metrics['accuracy']:.4f}\")\n",
    "print(f\"f1 score : {metrics['f1_score']:.4f}\")\n",
    "print(f\"precision : {metrics['precision']:.4f}\")\n",
    "print(f\"recall : {metrics['recall']:.4f}\")"
   ]
  },
  {
   "cell_type": "code",
   "execution_count": null,
   "metadata": {},
   "outputs": [],
   "source": []
  },
  {
   "cell_type": "code",
   "execution_count": 2,
   "metadata": {},
   "outputs": [
    {
     "name": "stdout",
     "output_type": "stream",
     "text": [
      "[0. 0. 0. 0. 0. 0. 0. 0. 0. 0.]\n"
     ]
    }
   ],
   "source": [
    "import numpy as np\n",
    "\n",
    "b = np.zeros(10)\n",
    "\n",
    "print(b)"
   ]
  },
  {
   "cell_type": "code",
   "execution_count": null,
   "metadata": {},
   "outputs": [],
   "source": []
  }
 ],
 "metadata": {
  "kernelspec": {
   "display_name": "Python 3.9.13 ('base')",
   "language": "python",
   "name": "python3"
  },
  "language_info": {
   "codemirror_mode": {
    "name": "ipython",
    "version": 3
   },
   "file_extension": ".py",
   "mimetype": "text/x-python",
   "name": "python",
   "nbconvert_exporter": "python",
   "pygments_lexer": "ipython3",
   "version": "3.9.13"
  },
  "orig_nbformat": 4,
  "vscode": {
   "interpreter": {
    "hash": "39523b5506b09c1341afcde84115bb5b8a9de94ca361b7e653f8ee467cc4d43c"
   }
  }
 },
 "nbformat": 4,
 "nbformat_minor": 2
}
