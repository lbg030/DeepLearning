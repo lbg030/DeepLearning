{
 "cells": [
  {
   "cell_type": "code",
   "execution_count": 5,
   "metadata": {},
   "outputs": [
    {
     "name": "stdout",
     "output_type": "stream",
     "text": [
      "마스크 데이터를 JSON 파일로 저장했습니다.\n",
      "파일 경로: /Users/gwonsmpro/Desktop/coining/부유성이물/examples/output//Unit_S-0_0X0_I0_L0_L-Invalid_D-Invalid (2).png.json\n"
     ]
    }
   ],
   "source": [
    "import cv2\n",
    "import json\n",
    "\n",
    "# 이미지 파일 경로\n",
    "image_path = \"/Users/gwonsmpro/Desktop/coining/부유성이물/examples/output/output_Unit_S-0_0X0_I0_L0_L-Invalid_D-Invalid (2).png\"\n",
    "\n",
    "def listToString(str_list):\n",
    "    result = \"\"\n",
    "    for s in str_list:\n",
    "        result += s + \"/\"\n",
    "    return result.strip()\n",
    "\n",
    "# 이미지 불러오기\n",
    "image = cv2.imread(image_path, 0)  # 흑백 이미지로 불러옴\n",
    "\n",
    "# 이미지에서 255인 좌표값 찾기\n",
    "mask_points = []\n",
    "for y in range(image.shape[0]):\n",
    "    for x in range(image.shape[1]):\n",
    "        if image[y, x] == 255:\n",
    "            mask_points.append([float(x), float(y)])\n",
    "\n",
    "base_path = image_path.split('/')[:-1] \n",
    "img_name = image_path.split('/')[-1][7:]\n",
    "# JSON 데이터 생성\n",
    "json_data = {\n",
    "    \"version\": \"5.1.1\",\n",
    "    \"flags\": {},\n",
    "    \"shapes\": [\n",
    "        {\n",
    "            \"label\": \"buyu\",\n",
    "            \"points\": mask_points,\n",
    "            \"group_id\": None,\n",
    "            \"shape_type\": \"rectangle\",\n",
    "            \"flags\": {}\n",
    "        }\n",
    "    ],\n",
    "    \"imagePath\": img_name,\n",
    "    \"imageData\": None,\n",
    "    \"imageHeight\": image.shape[0],\n",
    "    \"imageWidth\": image.shape[1]\n",
    "}\n",
    "\n",
    "# JSON 파일로 저장\n",
    "out_path = listToString(base_path)\n",
    "output_path = f\"{out_path}/{img_name}.json\"\n",
    "\n",
    "with open(output_path, \"w\") as json_file:\n",
    "    json.dump(json_data, json_file, indent=2)\n",
    "\n",
    "print(\"마스크 데이터를 JSON 파일로 저장했습니다.\")\n",
    "print(\"파일 경로:\", output_path)"
   ]
  },
  {
   "cell_type": "code",
   "execution_count": 1,
   "metadata": {},
   "outputs": [],
   "source": [
    "def _convert_to_hubbleformat(file_name):\n",
    "    with open(file_name) as file:\n",
    "        json_data = json.load(file)\n",
    "    boxes = json_data['shapes']\n",
    "    hubble_set = list(dict() for _ in range(len(boxes)))\n",
    "    for ind in range(len(boxes)):\n",
    "        hubble_set[ind]['defectTypeName'] = boxes[ind]['label']\n",
    "        ul = boxes[ind]['points'][0]\n",
    "        br = boxes[ind]['points'][1]\n",
    "        ur = [br[0], ul[1]]\n",
    "        bl = [ul[0], br[1]]\n",
    "        hubble_set[ind]['data'] = {'coordinateList' : [ul, ur, br, bl]}\n",
    "    \n",
    "    with open(file_name, 'w') as w_file:\n",
    "        json.dump(hubble_set, w_file, indent = 4)"
   ]
  },
  {
   "cell_type": "code",
   "execution_count": 3,
   "metadata": {},
   "outputs": [],
   "source": [
    "import json\n",
    "\n",
    "fs = \"/Users/gwonsmpro/Desktop/filtered/Unit_S-0_7X7_I70028_L0_L-missingbump_D-Invalid.json\"\n",
    "\n",
    "_convert_to_hubbleformat(fs)\n"
   ]
  }
 ],
 "metadata": {
  "kernelspec": {
   "display_name": "base",
   "language": "python",
   "name": "python3"
  },
  "language_info": {
   "codemirror_mode": {
    "name": "ipython",
    "version": 3
   },
   "file_extension": ".py",
   "mimetype": "text/x-python",
   "name": "python",
   "nbconvert_exporter": "python",
   "pygments_lexer": "ipython3",
   "version": "3.9.16"
  },
  "orig_nbformat": 4
 },
 "nbformat": 4,
 "nbformat_minor": 2
}
