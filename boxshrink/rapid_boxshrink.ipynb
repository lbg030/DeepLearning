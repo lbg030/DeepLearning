{
 "cells": [
  {
   "cell_type": "code",
   "execution_count": 1,
   "metadata": {},
   "outputs": [
    {
     "name": "stderr",
     "output_type": "stream",
     "text": [
      "/Users/michaelgroeger/miniconda3/envs/boxshrink/lib/python3.8/site-packages/tqdm/auto.py:22: TqdmWarning: IProgress not found. Please update jupyter and ipywidgets. See https://ipywidgets.readthedocs.io/en/stable/user_install.html\n",
      "  from .autonotebook import tqdm as notebook_tqdm\n"
     ]
    }
   ],
   "source": [
    "from scripts.superpixels import export_superpixel_crf_masks_for_dataset, return_superpixel_crf_masks\n",
    "from scripts.dataset import Colonoscopy_Dataset\n",
    "from scripts.tools import (\n",
    "    return_files_in_directory,\n",
    "    human_sort\n",
    "    )\n",
    "from scripts.config import *\n",
    "import os"
   ]
  },
  {
   "cell_type": "code",
   "execution_count": 2,
   "metadata": {},
   "outputs": [],
   "source": [
    "DATA_DIR = BASE_DIR + '/data'\n",
    "TESTING_DIR = DATA_DIR + \"/testing/rapid_boxshrink\"\n",
    "if not os.path.exists(TESTING_DIR):\n",
    "    os.makedirs(TESTING_DIR)\n",
    "\n",
    "image_files = return_files_in_directory(DATA_DIR + \"/original\", \".tif\")\n",
    "box_files = return_files_in_directory(DATA_DIR + \"/boxmasks\", \".png\")\n",
    "# Ensure files are in correct order\n",
    "human_sort(image_files)\n",
    "human_sort(box_files)\n",
    "dataset = Colonoscopy_Dataset(image_files, box_files)"
   ]
  },
  {
   "cell_type": "code",
   "execution_count": 3,
   "metadata": {},
   "outputs": [
    {
     "name": "stderr",
     "output_type": "stream",
     "text": [
      "612it [17:18,  1.70s/it]\n"
     ]
    }
   ],
   "source": [
    "export_superpixel_crf_masks_for_dataset(dataset=dataset, export_path=TESTING_DIR, save_as_png=True)"
   ]
  }
 ],
 "metadata": {
  "kernelspec": {
   "display_name": "Python 3.8.13 ('boxshrink')",
   "language": "python",
   "name": "python3"
  },
  "language_info": {
   "codemirror_mode": {
    "name": "ipython",
    "version": 3
   },
   "file_extension": ".py",
   "mimetype": "text/x-python",
   "name": "python",
   "nbconvert_exporter": "python",
   "pygments_lexer": "ipython3",
   "version": "3.8.13"
  },
  "orig_nbformat": 4,
  "vscode": {
   "interpreter": {
    "hash": "3e03cce523887ef4ae3cc71c66ab4ee9a46035781549cd05776eda36e5299632"
   }
  }
 },
 "nbformat": 4,
 "nbformat_minor": 2
}
