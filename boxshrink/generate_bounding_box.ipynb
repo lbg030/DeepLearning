{
 "cells": [
  {
   "cell_type": "code",
   "execution_count": null,
   "metadata": {},
   "outputs": [],
   "source": [
    "from scripts.infer_bounding_boxes import infer_all_bboxes\n",
    "from scripts.config import DATA_DIR\n",
    "from scripts.tools import return_files_in_directory\n",
    "BB_BOX_DIR = DATA_DIR + \"/testing/bb_mask\"\n",
    "MASK_DIR = DATA_DIR + \"/testing/mask\"\n",
    "infer_all_bboxes(MASK_DIR, BB_BOX_DIR)"
   ]
  },
  {
   "cell_type": "code",
   "execution_count": null,
   "metadata": {},
   "outputs": [],
   "source": [
    "from PIL import Image\n",
    "import os\n",
    "from torchvision.transforms import ToTensor\n",
    "from scripts.tools import visualize\n",
    "idx = 10\n",
    "\n",
    "gt_mask = ToTensor()(Image.open(os.path.join(MASK_DIR, f\"{idx}.tif\")))\n",
    "bb_mask = ToTensor()(Image.open(os.path.join(BB_BOX_DIR, f\"{idx}.png\")))\n",
    "print(bb_mask.shape)\n",
    "print(gt_mask.shape)\n",
    "visualize(img=gt_mask.permute(1,2,0), bb_mask=bb_mask.permute(1,2,0))"
   ]
  },
  {
   "cell_type": "code",
   "execution_count": null,
   "metadata": {},
   "outputs": [],
   "source": []
  }
 ],
 "metadata": {
  "kernelspec": {
   "display_name": "base",
   "language": "python",
   "name": "python3"
  },
  "language_info": {
   "codemirror_mode": {
    "name": "ipython",
    "version": 3
   },
   "file_extension": ".py",
   "mimetype": "text/x-python",
   "name": "python",
   "nbconvert_exporter": "python",
   "pygments_lexer": "ipython3",
   "version": "3.9.13"
  },
  "orig_nbformat": 4,
  "vscode": {
   "interpreter": {
    "hash": "7a45de5f3dafc9f958149dbb5720a94187329daf1dd827c7082dc91de8ec11a4"
   }
  }
 },
 "nbformat": 4,
 "nbformat_minor": 2
}
